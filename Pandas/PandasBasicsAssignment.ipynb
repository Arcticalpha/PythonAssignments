{
 "cells": [
  {
   "cell_type": "markdown",
   "id": "4a2dd2c7-a762-4e8e-b135-ecf75ecc077b",
   "metadata": {},
   "source": [
    "Q1. Create a Pandas Series that contains the following data: 4, 8, 15, 16, 23, and 42. Then, print the series."
   ]
  },
  {
   "cell_type": "code",
   "execution_count": 1,
   "id": "bd821cb8-ac86-4d3d-b907-50384134e9da",
   "metadata": {},
   "outputs": [
    {
     "name": "stdout",
     "output_type": "stream",
     "text": [
      "0     4\n",
      "1     8\n",
      "2    15\n",
      "3    16\n",
      "4    23\n",
      "5    42\n",
      "dtype: int64\n"
     ]
    }
   ],
   "source": [
    "import pandas as pd\n",
    "\n",
    "data = pd.Series([4,8,15,16,23,42])\n",
    "print(data)"
   ]
  },
  {
   "cell_type": "markdown",
   "id": "698a4c18-11f5-4dcf-82bd-f8a74466a9aa",
   "metadata": {},
   "source": [
    "Q2. Create a variable of list type containing 10 elements in it, and apply pandas.Series function on the\n",
    "variable print it."
   ]
  },
  {
   "cell_type": "code",
   "execution_count": 7,
   "id": "24d4d863-ebaf-49fc-b197-aecf052d8a86",
   "metadata": {},
   "outputs": [
    {
     "name": "stdout",
     "output_type": "stream",
     "text": [
      "0     1\n",
      "1     2\n",
      "2     3\n",
      "3     4\n",
      "4     5\n",
      "5     6\n",
      "6     7\n",
      "7     8\n",
      "8     9\n",
      "9    10\n",
      "dtype: int64\n"
     ]
    }
   ],
   "source": [
    "import pandas as pd\n",
    "\n",
    "lst = [1,2,3,4,5,6,7,8,9,10]\n",
    "data1 = pd.Series(lst)\n",
    "print(data1)"
   ]
  },
  {
   "cell_type": "markdown",
   "id": "badd6125-097a-412e-a74e-eb71b27afb5e",
   "metadata": {},
   "source": [
    "Q3. Create a Pandas DataFrame that contains the following data:"
   ]
  },
  {
   "cell_type": "markdown",
   "id": "0b7fd90f-5299-4156-a036-51de0fa0155d",
   "metadata": {},
   "source": [
    "Name Alice Bob Claire\n",
    "\n",
    "Age 25 30 27\n",
    "\n",
    "Gender Female Male Female\n",
    "\n",
    "Then, print the DataFrame."
   ]
  },
  {
   "cell_type": "code",
   "execution_count": 4,
   "id": "de3a5a13-8e06-42ce-a830-8deba070d8ba",
   "metadata": {},
   "outputs": [
    {
     "name": "stdout",
     "output_type": "stream",
     "text": [
      "     Name  Age  Gender\n",
      "0   Alice   25  Female\n",
      "1     Bob   30    Male\n",
      "2  Claire   27  Female\n"
     ]
    }
   ],
   "source": [
    "import pandas as pd\n",
    "\n",
    "data2 = {\"Name\":[\"Alice\",\"Bob\",\"Claire\"],\"Age\":[25,30,27],\"Gender\":[\"Female\",\"Male\",\"Female\"]}\n",
    "t1 = pd.DataFrame(data2)\n",
    "print(t1)"
   ]
  },
  {
   "cell_type": "markdown",
   "id": "90829198-60a2-47f6-8dae-bcc9e04c2921",
   "metadata": {},
   "source": [
    "Q4. What is ‘DataFrame’ in pandas and how is it different from pandas.series? Explain with an example."
   ]
  },
  {
   "cell_type": "markdown",
   "id": "c041837e-d216-4c2f-a6bf-ce5d973659b4",
   "metadata": {},
   "source": [
    "* It is a two-dimensional tabular data structure that consists of rows and columns. It is similar to a table in a relational database or a spreadsheet.\n",
    "\n",
    "* On the other hand, a Series is a one-dimensional labeled array in Pandas.\n"
   ]
  },
  {
   "cell_type": "code",
   "execution_count": 5,
   "id": "12ad4147-0d06-4c3d-8459-e443749a70dd",
   "metadata": {},
   "outputs": [
    {
     "name": "stdout",
     "output_type": "stream",
     "text": [
      "DataFrame:\n",
      "     Name  Age  Gender\n",
      "0   Alice   25  Female\n",
      "1     Bob   30    Male\n",
      "2  Claire   27  Female\n",
      "\n",
      "Series:\n",
      "0    25\n",
      "1    30\n",
      "2    27\n",
      "dtype: int64\n"
     ]
    }
   ],
   "source": [
    "# For example:\n",
    "\n",
    "import pandas as pd\n",
    "\n",
    "data = {\n",
    "    'Name': ['Alice', 'Bob', 'Claire'],\n",
    "    'Age': [25, 30, 27],\n",
    "    'Gender': ['Female', 'Male', 'Female']\n",
    "}\n",
    "df = pd.DataFrame(data)\n",
    "\n",
    "ages = pd.Series([25, 30, 27])\n",
    "\n",
    "print(\"DataFrame:\")\n",
    "print(df)\n",
    "print(\"\\nSeries:\")\n",
    "print(ages)"
   ]
  },
  {
   "cell_type": "markdown",
   "id": "a5ebb6b9-c929-407c-9200-e15accb520a7",
   "metadata": {},
   "source": [
    "Q5. What are some common functions you can use to manipulate data in a Pandas DataFrame? Can\n",
    "you give an example of when you might use one of these functions?"
   ]
  },
  {
   "cell_type": "markdown",
   "id": "0f2aa001-a952-4297-b861-0a4747335e24",
   "metadata": {},
   "source": [
    "\n",
    "\n",
    "Some commonly used functions:\n",
    "\n",
    "    head():Returns the first n rows of the DataFrame. It is useful for quickly inspecting the data.\n",
    "\n",
    "df.head(5) # Returns the first 5 rows of the DataFrame\n",
    "\n",
    "    tail(): Returns the last n rows of the DataFrame. It is useful for quickly checking the end of the data.\n",
    "\n",
    "df.tail(3) # Returns the last 3 rows of the DataFrame\n",
    "\n",
    "    drop(): Removes specified rows or columns from the DataFrame.\n",
    "\n",
    "df.drop(columns=['Gender']) # Drops the 'Gender' column from the DataFrame\n"
   ]
  },
  {
   "cell_type": "code",
   "execution_count": null,
   "id": "0e0a70d2-2bd3-4139-8be0-34d44e783b55",
   "metadata": {},
   "outputs": [],
   "source": []
  },
  {
   "cell_type": "markdown",
   "id": "0bead20b-9a7f-4601-89df-c2a43dc628b7",
   "metadata": {},
   "source": [
    "Q6. Which of the following is mutable in nature Series, DataFrame, Panel?"
   ]
  },
  {
   "cell_type": "markdown",
   "id": "48dba1f7-358e-410d-8921-88d3117892b6",
   "metadata": {},
   "source": [
    "* Among the options provided (Series, DataFrame, Panel), both Series and DataFrame are mutable in nature, while Panel is not.\n"
   ]
  },
  {
   "cell_type": "markdown",
   "id": "281de981-70b1-46a8-8446-030fda6c103b",
   "metadata": {},
   "source": [
    "Q7. Create a DataFrame using multiple Series. Explain with an example."
   ]
  },
  {
   "cell_type": "code",
   "execution_count": 8,
   "id": "3988510d-997f-4598-ad0f-509f0a11d802",
   "metadata": {},
   "outputs": [
    {
     "name": "stdout",
     "output_type": "stream",
     "text": [
      "     Name  Age  Gender\n",
      "0   Alice   25  Female\n",
      "1     Bob   30    Male\n",
      "2  Claire   27  Female\n"
     ]
    }
   ],
   "source": [
    "import pandas as pd\n",
    "\n",
    "names = pd.Series(['Alice', 'Bob', 'Claire'])\n",
    "\n",
    "ages = pd.Series([25, 30, 27])\n",
    "\n",
    "genders = pd.Series(['Female', 'Male', 'Female'])\n",
    "\n",
    "df = pd.DataFrame({'Name': names, 'Age': ages, 'Gender': genders})\n",
    "\n",
    "print(df)"
   ]
  },
  {
   "cell_type": "code",
   "execution_count": null,
   "id": "0a645fc6-5309-46ed-9cd4-83d6dbd4231b",
   "metadata": {},
   "outputs": [],
   "source": []
  }
 ],
 "metadata": {
  "kernelspec": {
   "display_name": "Python 3 (ipykernel)",
   "language": "python",
   "name": "python3"
  },
  "language_info": {
   "codemirror_mode": {
    "name": "ipython",
    "version": 3
   },
   "file_extension": ".py",
   "mimetype": "text/x-python",
   "name": "python",
   "nbconvert_exporter": "python",
   "pygments_lexer": "ipython3",
   "version": "3.10.8"
  }
 },
 "nbformat": 4,
 "nbformat_minor": 5
}
